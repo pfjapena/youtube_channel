{
  "nbformat": 4,
  "nbformat_minor": 0,
  "metadata": {
    "colab": {
      "provenance": [],
      "authorship_tag": "ABX9TyNfLrvykiFcPB+tK/PLrJUb",
      "include_colab_link": true
    },
    "kernelspec": {
      "name": "python3",
      "display_name": "Python 3"
    },
    "language_info": {
      "name": "python"
    }
  },
  "cells": [
    {
      "cell_type": "markdown",
      "metadata": {
        "id": "view-in-github",
        "colab_type": "text"
      },
      "source": [
        "<a href=\"https://colab.research.google.com/github/pfjapena/youtube_channel/blob/main/1_Caracterizaci%C3%B3n_VA_Clase.ipynb\" target=\"_parent\"><img src=\"https://colab.research.google.com/assets/colab-badge.svg\" alt=\"Open In Colab\"/></a>"
      ]
    },
    {
      "cell_type": "markdown",
      "source": [
        "** Caracterización Experimental de Variables**\n",
        "0. Cargar las librerias de trabajo"
      ],
      "metadata": {
        "id": "M16rEbtmeRFU"
      }
    },
    {
      "cell_type": "code",
      "execution_count": 1,
      "metadata": {
        "colab": {
          "base_uri": "https://localhost:8080/"
        },
        "id": "x-Hhxx7ccUIb",
        "outputId": "822105b4-8dea-4ead-af12-dc806f26f5e1"
      },
      "outputs": [
        {
          "output_type": "stream",
          "name": "stdout",
          "text": [
            "Mounted at /content/drive\n"
          ]
        }
      ],
      "source": [
        "import numpy as np                #Funciones Numéricos\n",
        "import matplotlib.pyplot as plt\n",
        "import pandas as pd               #Comunicación Excel\n",
        "import seaborn as sns             #Libreria para la gráfica de distribuciones\n",
        "\n",
        "#Para carga automática de los datos\n",
        "from google.colab import drive    #Cargar datos desde el drive automática\n",
        "drive.mount('/content/drive')     #conecta el drive al colab"
      ]
    },
    {
      "cell_type": "markdown",
      "source": [
        "1. Se procede con la carga de los datos"
      ],
      "metadata": {
        "id": "CcGB_BvLgm_j"
      }
    },
    {
      "cell_type": "code",
      "source": [
        "nxl='/content/drive/MyDrive/2. IntegraciónDatos(01-2025)/3. FallasTecnologicas.xlsx'\n",
        "XDB=pd.read_excel(nxl,sheet_name=0)\n",
        "XDB.dropna()\n",
        "XDB.head(10)  #Mostrar los primeros 100 datos\n",
        "\n",
        "#Tomamos las variables de interés\n",
        "Xev=XDB.iloc[:,3]  #Variable Eventos Semanales\n",
        "Xsev=XDB.iloc[:,4] #Pérdidas Promedio por Evento\n",
        "LDA=np.multiply(Xev,Xsev)\n",
        "\n",
        "#Gráficamos la Distribución de las Pérdidas\n",
        "plt.figure()\n",
        "sns.histplot(LDA,kde=True,bins=10, color='orange')\n",
        "#bins: Agrupar los datos en 10 intervalos\n",
        "plt.legend(['Distribución de Pérdidas'])\n",
        "plt.show()\n"
      ],
      "metadata": {
        "colab": {
          "base_uri": "https://localhost:8080/",
          "height": 430
        },
        "id": "o4md2GLpguI4",
        "outputId": "151dd382-63a4-4f64-dac2-895ecc082a3d"
      },
      "execution_count": 16,
      "outputs": [
        {
          "output_type": "display_data",
          "data": {
            "text/plain": [
              "<Figure size 640x480 with 1 Axes>"
            ],
            "image/png": "[encoded data removed]"
          },
          "metadata": {}
        }
      ]
    },
    {
      "cell_type": "markdown",
      "source": [
        "2. Caracterización de la Distribución de las Pérdidas"
      ],
      "metadata": {
        "id": "i8wUqGSOlVqn"
      }
    },
    {
      "cell_type": "code",
      "source": [
        "counts,bin_edges=np.histogram(LDA,bins=10)\n",
        "print(\"Los datos por intervalo son:\\n\",counts)       #Cuantos datos hay por intervalo\n",
        "print(\"Los limites de los intervalos son:\\n\",bin_edges)    #Limites de los Intervalos\n",
        "\n",
        "#1. Los valores centrales - marcas de clase\n",
        "mc=(bin_edges[:-1]+bin_edges[1:])/2\n",
        "#Limites inferiores bin_edges[:-1]\n",
        "#limites Superiors bin_edges[1:]\n",
        "print(\"Los valores centrales de las clases son:\\n\",mc)\n",
        "\n",
        "#Cuantos datos hay por intervalo\n",
        "fp=counts/sum(counts)\n",
        "print(\"Los datos por intervalo son:\\n\",fp)\n",
        "\n",
        "#2. Se procede con el calculo de las medidas de tendencia central\n",
        "#Media, Varianza, Coeficiente de Asimetría, Kurtosis\n",
        "u=np.sum(np.multiply(mc,fp))\n",
        "print(\"La media de los datos es:\",u)\n",
        "\n",
        "#3. Desviación - Estándar (Varianza)\n",
        "var=np.sum(np.multiply((mc-u)**2,fp))  #Suma producto del Excel\n",
        "print(\"La varianza de los datos es:\",var)\n",
        "std=np.sqrt(var)\n",
        "print(\"La desviación estándar de los datos es:\",std)\n",
        "\n",
        "#4. Coeficiente de asimetría\n",
        "cas=np.sum(np.multiply(((mc-u)/std)**3,fp))\n",
        "print(\"El coeficiente de asimetría de los datos es:\",cas)\n",
        "\n",
        "#5. Coeficiente de Kurtosis\n",
        "ck=np.sum(np.multiply(((mc-u)/std)**4,fp))\n",
        "ck=ck-3\n",
        "print(\"El coeficiente de asimetría de los datos es:\",ck)"
      ],
      "metadata": {
        "colab": {
          "base_uri": "https://localhost:8080/"
        },
        "id": "LTTvs-2glaNV",
        "outputId": "fd9ee63d-8973-4a5a-fa35-c871c6db4fdb"
      },
      "execution_count": 29,
      "outputs": [
        {
          "output_type": "stream",
          "name": "stdout",
          "text": [
            "Los datos por intervalo son:\n",
            " [533  93  37  14   9   5   3   5   1   1]\n",
            "Los limites de los intervalos son:\n",
            " [  0.1423   11.23637  22.33044  33.42451  44.51858  55.61265  66.70672\n",
            "  77.80079  88.89486  99.98893 111.083  ]\n",
            "Los valores centrales de las clases son:\n",
            " [  5.689335  16.783405  27.877475  38.971545  50.065615  61.159685\n",
            "  72.253755  83.347825  94.441895 105.535965]\n",
            "Los datos por intervalo son:\n",
            " [0.76034237 0.13266762 0.05278174 0.01997147 0.0128388  0.00713267\n",
            " 0.0042796  0.00713267 0.00142653 0.00142653]\n",
            "La media de los datos es: 11.07019634094151\n",
            "La varianza de los datos es: 170.14888945066892\n",
            "La desviación estándar de los datos es: 13.044113210589247\n",
            "El coeficiente de asimetría de los datos es: 3.58241551867726\n",
            "El coeficiente de asimetría de los datos es: 15.266617247076208\n"
          ]
        }
      ]
    },
    {
      "cell_type": "markdown",
      "source": [
        "**Análisis de Resultados**\n",
        "En la base de datos se cuenta con un total de 701 registros de eventos de pérdida asociados con las operaciones a través de canales electrónicos de una FINTECH. Estos registros nos arrojan como resultado una confiabilidad en la estimación de los estadísticos del 99% de acuerdo con la teoría de los percentiles. En la gráfica anterior podemos observar que la distribución presenta estructura de cola larga, esto promovido por un coeficiente de asimetría positivo aproximadamente de 3.348, y un coeficiente de curtosis aproximadamente de 15 unidades, lo que indica que la mayoría de los datos se encuentran muy concentrados alrededor de la media, en un 76% aproximadamente. Esta estructura muestra claramente que los eventos de pérdida extremos son muy escasos, lo que indica un baja exposición al riesgo."
      ],
      "metadata": {
        "id": "aqYMDTjKsfUl"
      }
    }
  ]
}